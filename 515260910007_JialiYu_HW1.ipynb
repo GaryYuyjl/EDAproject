{
 "cells": [
  {
   "cell_type": "markdown",
   "metadata": {},
   "source": [
    "# Your information\n",
    "------\n",
    "*Name*: 俞嘉力 <br>\n",
    "*Student ID*: 515260910007 <br>\n",
    "*Assignment NO.*: HW1<br>"
   ]
  },
  {
   "cell_type": "markdown",
   "metadata": {},
   "source": [
    "# The librarys you need"
   ]
  },
  {
   "cell_type": "markdown",
   "metadata": {},
   "source": [
    "1. In homework I, in principle only the following libraries are allowed: \n",
    "    * numpy\n",
    "    * panda, \n",
    "    * matplotlib \n",
    "    * scipy\n",
    "    * re\n",
    "    * pyq,\n",
    "    * tk\n",
    "    * flex/bison related libraries"
   ]
  },
  {
   "cell_type": "code",
   "execution_count": null,
   "metadata": {},
   "outputs": [],
   "source": []
  },
  {
   "cell_type": "markdown",
   "metadata": {},
   "source": [
    "# Your Idea\n",
    "------\n",
    "Describe your ideas here, how to implement this assignment, including the construction of test cases. This paragraph is included in the score. Also, it is best to have a flowchart.\n",
    "\n",
    "------\n",
    "\n",
    "### Main Idea\n",
    "I split the HW1 into two parts: the UI class will handle the GUI with PyQT5 and the Parser class can parse the netlist and generate essential devices and commands.\n",
    "\n",
    "### Parser\n",
    "To parser a netlist, firstly we need to handle the continuing line by scanning the fist character. Also, spaces around '=' and ',' or other signs should be taken into consideration.\n",
    "\n",
    "Then we decide the each lines' type(command, device, comment) and dispatch the line to corresponding functions. In each corresponding function, the parse function can be built based on Lect4.pdf.\n",
    "\n",
    "All the devices and commands are saved into two list -- deviceList and commandList -- seperately. And each device and command are stored in a unique dict seperately.\n",
    "\n",
    "\n",
    "### UI\n",
    "I use PyQt5 to develop the GUI of the HW1. The UI class will call initUI function while constructing. We can input the text in the text editor in the upper part of GUI and see the console logs in the lower part of GUI, and we can save or open files in the GUI.\n",
    "![avatar](./pic/edademo.jpg)"
   ]
  },
  {
   "cell_type": "markdown",
   "metadata": {},
   "source": [
    "======================================\n",
    "**Your flowchart here**\n",
    "==================\n",
    "![avatar](./pic/edaHW1.jpg)"
   ]
  },
  {
   "cell_type": "markdown",
   "metadata": {},
   "source": [
    "# Your code & result"
   ]
  },
  {
   "cell_type": "markdown",
   "metadata": {},
   "source": [
    "------\n",
    "*We encourage object-oriented programming (plus points), calling your code here.\n",
    "<br>You should not place all the code in jupyter, just execute the interface you wrap.*\n",
    "<br>\n",
    "**You are supposed to make sure that your source code and output are readable.<br> Comments in the code are required.**"
   ]
  },
  {
   "cell_type": "code",
   "execution_count": null,
   "metadata": {},
   "outputs": [],
   "source": [
    "# We can use the GUI directly.\n",
    "from UI import GUI\n",
    "import sys\n",
    "from PyQt5.QtWidgets import QApplication\n",
    "\n",
    "app = QApplication(sys.argv)\n",
    "ex = GUI()\n",
    "sys.exit(app.exec_())"
   ]
  },
  {
   "cell_type": "code",
   "execution_count": 1,
   "metadata": {},
   "outputs": [
    {
     "ename": "TypeError",
     "evalue": "__init__() missing 3 required positional arguments: 'nodeDict', 'deviceList', and 'commandList'",
     "output_type": "error",
     "traceback": [
      "\u001b[1;31m---------------------------------------------------------------------------\u001b[0m",
      "\u001b[1;31mTypeError\u001b[0m                                 Traceback (most recent call last)",
      "\u001b[1;32m<ipython-input-1-32f7b5a75552>\u001b[0m in \u001b[0;36m<module>\u001b[1;34m\u001b[0m\n\u001b[0;32m     11\u001b[0m \"\"\"\n\u001b[0;32m     12\u001b[0m \u001b[1;31m# Load the netlist from a file is also okay.\u001b[0m\u001b[1;33m\u001b[0m\u001b[1;33m\u001b[0m\u001b[1;33m\u001b[0m\u001b[0m\n\u001b[1;32m---> 13\u001b[1;33m \u001b[0mmyParser\u001b[0m \u001b[1;33m=\u001b[0m \u001b[0mParser\u001b[0m\u001b[1;33m(\u001b[0m\u001b[0mexample_netlist1\u001b[0m\u001b[1;33m)\u001b[0m\u001b[1;33m\u001b[0m\u001b[1;33m\u001b[0m\u001b[0m\n\u001b[0m\u001b[0;32m     14\u001b[0m \u001b[0mmyParser\u001b[0m\u001b[1;33m.\u001b[0m\u001b[0mstartParser\u001b[0m\u001b[1;33m(\u001b[0m\u001b[1;33m)\u001b[0m\u001b[1;33m\u001b[0m\u001b[1;33m\u001b[0m\u001b[0m\n",
      "\u001b[1;31mTypeError\u001b[0m: __init__() missing 3 required positional arguments: 'nodeDict', 'deviceList', and 'commandList'"
     ]
    }
   ],
   "source": [
    "#Or we can run the parser in this way...\n",
    "from Parser import Parser\n",
    "example_netlist1 = \"\"\"\n",
    "*netlist example 1\n",
    "R1 1 0 5\n",
    "G2 1 0 1 2 2\n",
    "R3 1 2 6\n",
    "R4 2 0 8\n",
    "Is 0 2 10\n",
    ".end\n",
    "\"\"\"\n",
    "# Load the netlist from a file is also okay.\n",
    "myParser = Parser(example_netlist1)\n",
    "myParser.startParser()"
   ]
  },
  {
   "cell_type": "code",
   "execution_count": 4,
   "metadata": {},
   "outputs": [
    {
     "name": "stdout",
     "output_type": "stream",
     "text": [
      "Start parser now. \n",
      "\n",
      "Devices:\n",
      "Device0\n",
      "\t deviceType : V\n",
      "\t name : S\n",
      "\t connectionPoints : VS GND \n",
      "\t DC : 5V \n",
      "Device1\n",
      "\t deviceType : R\n",
      "\t name : S\n",
      "\t connectionPoints : VS VD \n",
      "\t value : 5000.0\n",
      "Commands:\n",
      "Command0\n",
      "\t type : MODEL\n",
      "\t MNAME : TUT_DIODE\n",
      "\t MTYPE : D\n",
      "\t IS : 1E-14\n",
      "\t VJ : 0.6\n",
      "\t RS : 10\n",
      "Command1\n",
      "\t type : DC\n",
      "\t src1 : VS\n",
      "\t start1 : 0.0\n",
      "\t stop1 : 5.0\n",
      "\t incr1 : 0.01\n",
      "Command2\n",
      "\t type : OPTION\n",
      "\t POST : 2\n",
      "Command3\n",
      "\t type : END\n"
     ]
    }
   ],
   "source": [
    "# Additional netlists\n",
    "example_netlist2 = \"\"\"\n",
    "EE105 SPICE Tutorial Example 3 - Simple Diode Circuit\n",
    ".model tut_diode d (is=1e-14 vj=0.6 rs=10)\n",
    "vs vs gnd 5V \n",
    "rs vs vd  5k\n",
    "d1 vd gnd tut_diode\n",
    ".dc vs 0V 5V 0.01V\n",
    ".option post=2\n",
    ".end\n",
    "\"\"\"\n",
    "reference = \"http://www-inst.eecs.berkeley.edu/~ee105/fa07/tutorials/HSPICE_Tutorial.pdf\"\n",
    "myParser = Parser(example_netlist2)\n",
    "myParser.startParser()"
   ]
  },
  {
   "cell_type": "code",
   "execution_count": 5,
   "metadata": {},
   "outputs": [
    {
     "name": "stdout",
     "output_type": "stream",
     "text": [
      "Start parser now. \n",
      "\n",
      "Devices:\n",
      "Device0\n",
      "\t deviceType : V\n",
      "\t name : S\n",
      "\t connectionPoints : 1 0 \n",
      "\t AC : 1 \n",
      "\t SIN : 0VOFF 1VPEAK 2KHZ \n",
      "Device1\n",
      "\t deviceType : R\n",
      "\t name : 1\n",
      "\t connectionPoints : 1 2 \n",
      "\t value : 1000.0\n",
      "Device2\n",
      "\t deviceType : C\n",
      "\t name : 1\n",
      "\t connectionPoints : 2 0 \n",
      "\t value : 3.2e-08\n",
      "Commands:\n",
      "Command0\n",
      "\t type : AC\n",
      "\t variation : DEC\n",
      "\t pointsSelect : 5\n",
      "\t fstart : 10.0\n",
      "\t fstop : 0.01\n",
      "Command1\n",
      "\t type : TRAN\n",
      "\t tstep : 4.9999999999999996e-06\n",
      "\t tstop : 0.0005\n",
      "Command2\n",
      "\t type : PRINT\n",
      "\t prtype : AC\n",
      "\t ovs : [{'ovtype': 'VM', 'ovnodes': ('2', '1')}, {'ovtype': 'VP', 'ovnodes': ('2', 0)}]\n",
      "Command3\n",
      "\t type : PRINT\n",
      "\t prtype : TRAN\n",
      "\t ovs : [{'ovtype': 'V', 'ovnodes': ('1', 0)}, {'ovtype': 'V', 'ovnodes': ('2', 0)}]\n",
      "Command4\n",
      "\t type : OPTIONS\n",
      "\t RELTOL : .005\n",
      "\t TRTOL : 8\n",
      "Command5\n",
      "\t type : IC\n",
      "\t 11 : 5\n",
      "\t 4 : -5\n",
      "\t 22 : 2.2\n",
      "Command6\n",
      "\t type : PROBE\n",
      "Command7\n",
      "\t type : NODESET\n",
      "\t 12 : 4.5\n",
      "\t 4 : 2.23\n",
      "Command8\n",
      "\t type : END\n"
     ]
    }
   ],
   "source": [
    "example_netlist = \"\"\"LPFILTER.CIR - SIMPLE RC LOW-PASS FILTER\n",
    "*\n",
    "VS\t1\t0\tAC\t1\tSIN(0VOFF 1VPEAK   2KHZ)\n",
    "*\n",
    "R1\t1\t2\t1K\n",
    "C1\t2\t0\t0.032UF\n",
    "*\n",
    "* ANALYSIS\n",
    ".AC \tDEC \t5 10 10MEG\n",
    ".TRAN \t5US  500US\n",
    "*\n",
    "* VIEW RESULTS\n",
    ".PRINT\tAC \tVM(2, 1) VP(2)   \n",
    ".PRINT\tTRAN \tV(1) V(2)\n",
    "*\n",
    ".OPTIONS RELTOL =  .005 TRTOL=8 \n",
    ".IC v(11) =     5 v(4)=-5 v(22)=2.2 \n",
    ".PROBE\n",
    ".NODESET V(12)=4.5 V(4)=2.23\n",
    ".END \n",
    "\"\"\"\n",
    "myParser = Parser(example_netlist)\n",
    "myParser.startParser()# Show your output here."
   ]
  },
  {
   "cell_type": "markdown",
   "metadata": {},
   "source": [
    "# Rating Policy"
   ]
  },
  {
   "cell_type": "markdown",
   "metadata": {},
   "source": [
    "1. The plagiarized code is 0 points, including the plagiarized.\n",
    "2. Document and flow chart score.\n",
    "3. Code quality and scalability score.\n",
    "4. The code, unable to reproduce the code in my environment, will lead to zero points.\n",
    "5. Excessive reliance on third-party libraries will reduce points.\n",
    "6. Students who can make additional graphical interfaces get proper points.\n",
    "7. Late assignments are deducted by day.\n",
    "8. The deadline for the assignment is **7 days after the class**. For example, the assignment I is delivered in March 11, and the deadline is 23:59 on March 18.\n",
    "9. The job submission address is *public.sjtu.edu.cn*, the user name is **sjtuyuhao1995**, and the password is **public**.<br> Package the **ipynb file** and your **python files**, the text files of the **test netlists**, or the extra **pdf description**, and name it ‘studentNumber_name_HWX.zip’(e.g. **51403090011_HengZhang_HW1.zip**), and finally upload it to the corresponding directory."
   ]
  },
  {
   "cell_type": "code",
   "execution_count": null,
   "metadata": {},
   "outputs": [],
   "source": []
  }
 ],
 "metadata": {
  "kernelspec": {
   "display_name": "Python 3",
   "language": "python",
   "name": "python3"
  },
  "language_info": {
   "codemirror_mode": {
    "name": "ipython",
    "version": 3
   },
   "file_extension": ".py",
   "mimetype": "text/x-python",
   "name": "python",
   "nbconvert_exporter": "python",
   "pygments_lexer": "ipython3",
   "version": "3.6.7rc1"
  },
  "varInspector": {
   "cols": {
    "lenName": 16,
    "lenType": 16,
    "lenVar": 40
   },
   "kernels_config": {
    "python": {
     "delete_cmd_postfix": "",
     "delete_cmd_prefix": "del ",
     "library": "var_list.py",
     "varRefreshCmd": "print(var_dic_list())"
    },
    "r": {
     "delete_cmd_postfix": ") ",
     "delete_cmd_prefix": "rm(",
     "library": "var_list.r",
     "varRefreshCmd": "cat(var_dic_list()) "
    }
   },
   "types_to_exclude": [
    "module",
    "function",
    "builtin_function_or_method",
    "instance",
    "_Feature"
   ],
   "window_display": false
  }
 },
 "nbformat": 4,
 "nbformat_minor": 2
}
