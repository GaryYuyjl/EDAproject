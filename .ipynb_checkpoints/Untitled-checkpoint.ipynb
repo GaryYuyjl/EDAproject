{
 "cells": [
  {
   "cell_type": "code",
   "execution_count": 17,
   "metadata": {},
   "outputs": [
    {
     "name": "stdout",
     "output_type": "stream",
     "text": [
      "start parser\n"
     ]
    }
   ],
   "source": [
    "from Parser import Parser\n",
    "example_netlist = \"\"\"LPFILTER.CIR - SIMPLE RC LOW-PASS FILTER\n",
    "*\n",
    "VS\t1\t0\tAC\t1\tSIN(0VOFF 1VPEAK   2KHZ)\n",
    "*\n",
    "R1\t1\t2\t1K\n",
    "C1\t2\t0\t0.032UF\n",
    "*\n",
    "* ANALYSIS\n",
    ".AC \tDEC \t5 10 10MEG\n",
    ".TRAN \t5US  500US\n",
    "*\n",
    "* VIEW RESULTS\n",
    ".PRINT\tAC \tVM(2) VP(2)\n",
    ".PRINT\tTRAN \tV(1) V(2)\n",
    "*\n",
    ".PROBE\n",
    ".END \n",
    "\"\"\"\n",
    "myParser = Parser(example_netlist)\n",
    "myParser.parser()"
   ]
  },
  {
   "cell_type": "code",
   "execution_count": null,
   "metadata": {},
   "outputs": [],
   "source": []
  }
 ],
 "metadata": {
  "kernelspec": {
   "display_name": "Python 3",
   "language": "python",
   "name": "python3"
  },
  "language_info": {
   "codemirror_mode": {
    "name": "ipython",
    "version": 3
   },
   "file_extension": ".py",
   "mimetype": "text/x-python",
   "name": "python",
   "nbconvert_exporter": "python",
   "pygments_lexer": "ipython3",
   "version": "3.6.7rc1"
  }
 },
 "nbformat": 4,
 "nbformat_minor": 2
}
