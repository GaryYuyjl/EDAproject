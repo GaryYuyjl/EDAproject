{
 "cells": [
  {
   "cell_type": "code",
   "execution_count": 1,
   "metadata": {},
   "outputs": [
    {
     "name": "stdout",
     "output_type": "stream",
     "text": [
      "Start parser now. \n",
      "\n",
      "change [{'deviceType': 'R', 'name': 'R1', 'connectionPoints': (1, 0), 'value': 5.0}, {'deviceType': 'G', 'name': 'G2', 'connectionPoints': (1, 0), 'value': 2.0, 'control': (1, 2)}, {'deviceType': 'R', 'name': 'R3', 'connectionPoints': (1, 2), 'value': 6.0}, {'deviceType': 'R', 'name': 'R4', 'connectionPoints': (2, 0), 'value': 8.0}, {'deviceType': 'I', 'name': 'IS', 'connectionPoints': (0, 2), 'DC': 10.0}]\n",
      "stampMatrix\n",
      " [[ 2.36666667 -2.16666667]\n",
      " [-0.16666667  0.29166667]]\n",
      "RHS\n",
      " [[ 0.]\n",
      " [10.]]\n",
      "{0: '0', 1: '1', 2: '2'}\n",
      "appendLine\n",
      " {}\n",
      "result\n",
      " [[65.82278481]\n",
      " [71.89873418]]\n"
     ]
    }
   ],
   "source": [
    "#test\n",
    "netlist = \"\"\"\n",
    "*netlist example 1\n",
    "R1 1 0 5\n",
    "G2 1 0 1 2 2\n",
    "R3 1 2 6\n",
    "R4 2 0 8\n",
    "Is 0 2 10\n",
    ".end\n",
    "\"\"\"\n",
    "\n",
    "from Spice import Spice\n",
    "mySpice = Spice()\n",
    "mySpice.parse(netlist)\n",
    "mySpice.solve()\n",
    "#mySpice.startGUI()"
   ]
  },
  {
   "cell_type": "code",
   "execution_count": null,
   "metadata": {},
   "outputs": [],
   "source": []
  },
  {
   "cell_type": "code",
   "execution_count": 1,
   "metadata": {},
   "outputs": [
    {
     "name": "stdout",
     "output_type": "stream",
     "text": [
      "Start parser now. \n",
      "\n",
      "change [{'deviceType': 'R', 'name': 'R1', 'connectionPoints': (1, 0), 'value': 5.0}, {'deviceType': 'G', 'name': 'G2', 'connectionPoints': (1, 0), 'value': 2.0, 'control': (1, 2)}, {'deviceType': 'R', 'name': 'R3', 'connectionPoints': (1, 2), 'value': 6.0}, {'deviceType': 'R', 'name': 'R4', 'connectionPoints': (2, 0), 'value': 8.0}, {'deviceType': 'I', 'name': 'IS5', 'connectionPoints': (0, 2), 'DC': 10.0}, {'deviceType': 'V', 'name': 'VS6', 'connectionPoints': (3, 2), 'DC': 5.0}, {'deviceType': 'R', 'name': 'R8', 'connectionPoints': (3, 4), 'value': 10.0}, {'deviceType': 'E', 'name': 'E7', 'connectionPoints': (4, 0), 'value': 3.0, 'control': (1, 2)}]\n",
      "stampMatrix\n",
      " [[ 2.36666667 -2.16666667  0.          0.          0.          0.        ]\n",
      " [-0.16666667  0.29166667  0.          0.         -1.          0.        ]\n",
      " [ 0.          0.          0.1        -0.1         1.          0.        ]\n",
      " [ 0.          0.         -0.1         0.1         0.          1.        ]\n",
      " [ 0.         -1.          1.          0.          0.          0.        ]\n",
      " [-3.          3.          0.          1.          0.          0.        ]]\n",
      "RHS\n",
      " [[ 0.]\n",
      " [10.]\n",
      " [ 0.]\n",
      " [ 0.]\n",
      " [ 5.]\n",
      " [ 0.]]\n",
      "{0: '0', 1: '1', 2: '2', 3: '3', 4: '4'}\n",
      "appendLine\n",
      " {'VS6': 5, 'E7': 6}\n",
      "result\n",
      " [[32.88948069]\n",
      " [35.92543276]\n",
      " [40.92543276]\n",
      " [-9.10785619]\n",
      " [-5.00332889]\n",
      " [ 5.00332889]]\n",
      "node 1  =  32.88948069241012\n",
      "node 2  =  35.9254327563249\n",
      "node 3  =  40.9254327563249\n",
      "node 4  =  -9.107856191744348\n",
      "IVS6  = -5.003329\n",
      "IE7  = 5.003329\n"
     ]
    }
   ],
   "source": [
    "#test\n",
    "netlist = \"\"\"\n",
    "*netlist example 1\n",
    "R1 1 0 5\n",
    "G2 1 0 1 2 2\n",
    "R3 1 2 6\n",
    "R4 2 0 8\n",
    "Is5 0 2 10\n",
    "Vs6 3 2 5\n",
    "R8 3 4 10\n",
    "E7 4 0 1 2 3\n",
    "*Hk 2 3 Vs6 1\n",
    "*L 1 2 3\n",
    "*C 3 4 5\n",
    ".end\n",
    "\"\"\"\n",
    "\n",
    "from Spice import Spice\n",
    "mySpice = Spice()\n",
    "mySpice.parse(netlist)\n",
    "mySpice.solve()\n",
    "#mySpice.startGUI()"
   ]
  },
  {
   "cell_type": "code",
   "execution_count": null,
   "metadata": {},
   "outputs": [],
   "source": [
    "from UI import GUI\n",
    "\n",
    "import sys\n",
    "from PyQt5.QtWidgets import QApplication\n",
    "\n",
    "app = QApplication(sys.argv)\n",
    "ex = GUI()\n",
    "sys.exit(app.exec_())\n"
   ]
  }
 ],
 "metadata": {
  "kernelspec": {
   "display_name": "Python 3",
   "language": "python",
   "name": "python3"
  },
  "language_info": {
   "codemirror_mode": {
    "name": "ipython",
    "version": 3
   },
   "file_extension": ".py",
   "mimetype": "text/x-python",
   "name": "python",
   "nbconvert_exporter": "python",
   "pygments_lexer": "ipython3",
   "version": "3.6.7rc1"
  }
 },
 "nbformat": 4,
 "nbformat_minor": 2
}
