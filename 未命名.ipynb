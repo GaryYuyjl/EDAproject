{
 "cells": [
  {
   "cell_type": "code",
   "execution_count": 1,
   "metadata": {},
   "outputs": [
    {
     "name": "stdout",
     "output_type": "stream",
     "text": [
      "Start parser now. \n",
      "\n",
      "change [{'deviceType': 'R', 'name': 'R1', 'connectionPoints': (1, 0), 'value': 5.0}, {'deviceType': 'G', 'name': 'G2', 'connectionPoints': (1, 0), 'value': 2.0, 'control': (1, 2)}, {'deviceType': 'R', 'name': 'R3', 'connectionPoints': (1, 2), 'value': 6.0}, {'deviceType': 'R', 'name': 'R4', 'connectionPoints': (2, 0), 'value': 8.0}, {'deviceType': 'I', 'name': 'IS', 'connectionPoints': (0, 2), 'DC': 10.0}]\n",
      "stampMatrix\n",
      " [[ 2.36666667 -2.16666667]\n",
      " [-0.16666667  0.29166667]]\n",
      "RHS\n",
      " [[ 0.]\n",
      " [10.]]\n",
      "{0: '0', 1: '1', 2: '2'}\n",
      "appendLine\n",
      " {}\n",
      "result\n",
      " [[65.82278481]\n",
      " [71.89873418]]\n"
     ]
    }
   ],
   "source": [
    "#test\n",
    "netlist = \"\"\"\n",
    "*netlist example 1\n",
    "R1 1 0 5\n",
    "G2 1 0 1 2 2\n",
    "R3 1 2 6\n",
    "R4 2 0 8\n",
    "Is 0 2 10\n",
    ".end\n",
    "\"\"\"\n",
    "\n",
    "from Spice import Spice\n",
    "mySpice = Spice()\n",
    "mySpice.parse(netlist)\n",
    "mySpice.solve()\n",
    "#mySpice.startGUI()"
   ]
  },
  {
   "cell_type": "code",
   "execution_count": null,
   "metadata": {},
   "outputs": [],
   "source": []
  },
  {
   "cell_type": "code",
   "execution_count": 1,
   "metadata": {},
   "outputs": [
    {
     "name": "stdout",
     "output_type": "stream",
     "text": [
      "Start parser now. \n",
      "\n",
      "change [{'deviceType': 'R', 'name': 'R1', 'connectionPoints': (1, 0), 'value': 5.0}, {'deviceType': 'G', 'name': 'G2', 'connectionPoints': (1, 0), 'value': 2.0, 'control': (1, 2)}, {'deviceType': 'R', 'name': 'R3', 'connectionPoints': (1, 2), 'value': 6.0}, {'deviceType': 'R', 'name': 'R4', 'connectionPoints': (2, 0), 'value': 8.0}, {'deviceType': 'I', 'name': 'IS5', 'connectionPoints': (0, 2), 'DC': 10.0}, {'deviceType': 'V', 'name': 'VS6', 'connectionPoints': (3, 2), 'DC': 5.0}, {'deviceType': 'R', 'name': 'R8', 'connectionPoints': (3, 4), 'value': 10.0}, {'deviceType': 'E', 'name': 'E7', 'connectionPoints': (4, 0), 'value': 3.0, 'control': (1, 2)}]\n",
      "stampMatrix\n",
      " [[ 2.36666667 -2.16666667  0.          0.          0.          0.        ]\n",
      " [-0.16666667  0.29166667  0.          0.         -1.          0.        ]\n",
      " [ 0.          0.          0.1        -0.1         1.          0.        ]\n",
      " [ 0.          0.         -0.1         0.1         0.          1.        ]\n",
      " [ 0.         -1.          1.          0.          0.          0.        ]\n",
      " [-3.          3.          0.          1.          0.          0.        ]]\n",
      "RHS\n",
      " [[ 0.]\n",
      " [10.]\n",
      " [ 0.]\n",
      " [ 0.]\n",
      " [ 5.]\n",
      " [ 0.]]\n",
      "{0: '0', 1: '1', 2: '2', 3: '3', 4: '4'}\n",
      "appendLine\n",
      " {'VS6': 5, 'E7': 6}\n",
      "result\n",
      " [[32.88948069]\n",
      " [35.92543276]\n",
      " [40.92543276]\n",
      " [-9.10785619]\n",
      " [-5.00332889]\n",
      " [ 5.00332889]]\n",
      "node 1  =  32.88948069241012\n",
      "node 2  =  35.9254327563249\n",
      "node 3  =  40.9254327563249\n",
      "node 4  =  -9.107856191744348\n",
      "IVS6  = -5.003329\n",
      "IE7  = 5.003329\n"
     ]
    }
   ],
   "source": [
    "#test\n",
    "netlist = \"\"\"\n",
    "*netlist example 1\n",
    "R1 1 0 5\n",
    "G2 1 0 1 2 2\n",
    "R3 1 2 6\n",
    "R4 2 0 8\n",
    "Is5 0 2 10\n",
    "Vs6 3 2 5\n",
    "R8 3 4 10\n",
    "E7 4 0 1 2 3\n",
    "*Hk 2 3 Vs6 1\n",
    "*L 1 2 3\n",
    "*C 3 4 5\n",
    ".end\n",
    "\"\"\"\n",
    "\n",
    "from Spice import Spice\n",
    "mySpice = Spice()\n",
    "mySpice.parse(netlist)\n",
    "mySpice.solve()\n",
    "#mySpice.startGUI()"
   ]
  },
  {
   "cell_type": "code",
   "execution_count": null,
   "metadata": {},
   "outputs": [],
   "source": [
    "from UI import GUI\n",
    "\n",
    "import sys\n",
    "from PyQt5.QtWidgets import QApplication\n",
    "\n",
    "app = QApplication(sys.argv)\n",
    "ex = GUI()\n",
    "sys.exit(app.exec_())\n"
   ]
  },
  {
   "cell_type": "code",
   "execution_count": 1,
   "metadata": {},
   "outputs": [
    {
     "name": "stdout",
     "output_type": "stream",
     "text": [
      "Start parser now. \n",
      "\n",
      "device {'deviceType': 'V', 'name': 'V1', 'connectionPoints': (1, 0), 'DC': 10.0}\n",
      "device {'deviceType': 'R', 'name': 'R2', 'connectionPoints': (1, 2), 'value': 5.0}\n",
      "device {'deviceType': 'L', 'name': 'L3', 'connectionPoints': (1, 2), 'value': 4.0}\n",
      "device {'deviceType': 'C', 'name': 'C4', 'connectionPoints': (2, 0), 'value': 3.0}\n",
      "stamp matrix [[  0.    0.    0.   -1.    0.   -1. ]\n",
      " [  0.    0.2  -0.2   1.    1.    0. ]\n",
      " [  0.   -0.2   0.2   0.   -1.    1. ]\n",
      " [ -1.    1.    0.    0.    0.    0. ]\n",
      " [  0.    1.   -1.    0.  -40.    0. ]\n",
      " [-30.    0.   30.    0.    0.   -1. ]]\n",
      "[[ 0.00000000e+00  0.00000000e+00  0.00000000e+00  0.00000000e+00\n",
      "   0.00000000e+00]\n",
      " [ 1.00000000e+01  7.44416873e-02 -2.23325062e+00  2.48138958e-01\n",
      "   2.23325062e+00]\n",
      " [ 1.00000000e+01 -1.19938550e+01 -7.18186800e+00  2.78309700e+00\n",
      "   7.18186800e+00]\n",
      " [ 1.00000000e+01 -1.67419081e+01 -1.31987973e+01  7.85041570e+00\n",
      "   1.31987973e+01]\n",
      " [ 1.00000000e+01 -2.25149751e+01 -2.05146667e+01  1.40116717e+01\n",
      "   2.05146667e+01]\n",
      " [ 1.00000000e+01 -2.95343370e+01 -2.94098925e+01  2.15030251e+01\n",
      "   2.94098925e+01]\n",
      " [ 1.00000000e+01 -3.80690449e+01 -4.02254276e+01  3.06116187e+01\n",
      "   4.02254276e+01]\n",
      " [ 1.00000000e+01 -4.84462333e+01 -5.33758301e+01  4.16865835e+01\n",
      "   5.33758301e+01]\n",
      " [ 1.00000000e+01 -6.10636584e+01 -6.93651533e+01  5.51524216e+01\n",
      "   6.93651533e+01]\n",
      " [ 1.00000000e+01 -7.64049444e+01 -8.88062658e+01  7.15252769e+01\n",
      "   8.88062658e+01]\n",
      " [ 1.00000000e+01 -9.50581210e+01 -1.12444343e+02  9.14327188e+01\n",
      "   1.12444343e+02]]\n",
      "node map\n",
      " {'0': 0, '1': 1, '2': 2}\n"
     ]
    }
   ],
   "source": [
    "#test\n",
    "netlist = \"\"\"\n",
    "*netlist example 1\n",
    "V1 1 0 10\n",
    "R2 1 2 5\n",
    "L3 1 2 4\n",
    "C4 2 0 3\n",
    ".end\n",
    "\"\"\"\n",
    "\n",
    "from Spice import Spice\n",
    "mySpice = Spice()\n",
    "mySpice.parse(netlist)\n",
    "mySpice.solveTran()\n",
    "#mySpice.startGUI()"
   ]
  }
 ],
 "metadata": {
  "kernelspec": {
   "display_name": "Python 3",
   "language": "python",
   "name": "python3"
  },
  "language_info": {
   "codemirror_mode": {
    "name": "ipython",
    "version": 3
   },
   "file_extension": ".py",
   "mimetype": "text/x-python",
   "name": "python",
   "nbconvert_exporter": "python",
   "pygments_lexer": "ipython3",
   "version": "3.6.7rc1"
  }
 },
 "nbformat": 4,
 "nbformat_minor": 2
}
