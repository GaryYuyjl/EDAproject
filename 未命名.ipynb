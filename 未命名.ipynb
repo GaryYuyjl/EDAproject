{
 "cells": [
  {
   "cell_type": "code",
   "execution_count": 1,
   "metadata": {},
   "outputs": [
    {
     "name": "stdout",
     "output_type": "stream",
     "text": [
      "Start parser now. \n",
      "\n",
      "change [{'deviceType': 'R', 'name': 'R1', 'connectionPoints': (1, 0), 'value': 5.0}, {'deviceType': 'G', 'name': 'G2', 'connectionPoints': (1, 0), 'value': 2.0, 'control': (1, 2)}, {'deviceType': 'R', 'name': 'R3', 'connectionPoints': (1, 2), 'value': 6.0}, {'deviceType': 'R', 'name': 'R4', 'connectionPoints': (2, 0), 'value': 8.0}, {'deviceType': 'I', 'name': 'IS', 'connectionPoints': (0, 2), 'DC': 10.0}]\n",
      "stampMatrix\n",
      " [[ 2.36666667 -2.16666667]\n",
      " [-0.16666667  0.29166667]]\n",
      "RHS\n",
      " [[ 0.]\n",
      " [10.]]\n",
      "{0: '0', 1: '1', 2: '2'}\n",
      "appendLine\n",
      " {}\n",
      "result\n",
      " [[65.82278481]\n",
      " [71.89873418]]\n"
     ]
    }
   ],
   "source": [
    "#test\n",
    "netlist = \"\"\"\n",
    "*netlist example 1\n",
    "R1 1 0 5\n",
    "G2 1 0 1 2 2\n",
    "R3 1 2 6\n",
    "R4 2 0 8\n",
    "Is 0 2 10\n",
    "\n",
    ".end\n",
    "\"\"\"\n",
    "\n",
    "from Spice import Spice\n",
    "mySpice = Spice()\n",
    "mySpice.parse(netlist)\n",
    "mySpice.solve()\n",
    "#mySpice.startGUI()"
   ]
  },
  {
   "cell_type": "code",
   "execution_count": null,
   "metadata": {},
   "outputs": [],
   "source": []
  },
  {
   "cell_type": "code",
   "execution_count": 1,
   "metadata": {},
   "outputs": [
    {
     "name": "stdout",
     "output_type": "stream",
     "text": [
      "Start parser now. \n",
      "\n",
      "device {'deviceType': 'H', 'name': 'HK', 'connectionPoints': (1, 2), 'value': 1.0, 'control': 'VS6'}\n",
      "device {'deviceType': 'R', 'name': 'R1', 'connectionPoints': (3, 0), 'value': 5.0}\n",
      "device {'deviceType': 'G', 'name': 'G2', 'connectionPoints': (3, 0), 'value': 2.0, 'control': (3, 1)}\n",
      "device {'deviceType': 'R', 'name': 'R3', 'connectionPoints': (3, 1), 'value': 6.0}\n",
      "device {'deviceType': 'R', 'name': 'R4', 'connectionPoints': (1, 0), 'value': 8.0}\n",
      "device {'deviceType': 'I', 'name': 'IS5', 'connectionPoints': (0, 1), 'DC': 10.0}\n",
      "device {'deviceType': 'V', 'name': 'VS6', 'connectionPoints': (2, 1), 'DC': 5.0}\n",
      "device {'deviceType': 'R', 'name': 'R8', 'connectionPoints': (2, 4), 'value': 10.0}\n",
      "stampMatrix\n",
      " [[ 0.29166667  0.         -0.16666667  0.          1.         -1.        ]\n",
      " [ 0.          0.1         0.         -0.1        -1.         -1.        ]\n",
      " [-2.16666667  0.          2.36666667  0.          0.          0.        ]\n",
      " [ 0.         -0.1         0.          0.1         0.          0.        ]\n",
      " [ 1.         -1.          0.          0.          0.         -1.        ]\n",
      " [-1.          1.          0.          0.          0.          0.        ]]\n",
      "RHS\n",
      " [[10.]\n",
      " [ 0.]\n",
      " [ 0.]\n",
      " [ 0.]\n",
      " [ 0.]\n",
      " [ 1.]]\n",
      "node map\n",
      " {'2': 1, '3': 2, '0': 0, '1': 3, '4': 4}\n",
      "appendLine\n",
      " {'VS6': 6, 'HK': 5}\n",
      "result\n",
      " [[57.51898734]\n",
      " [58.51898734]\n",
      " [52.65822785]\n",
      " [58.51898734]\n",
      " [ 1.        ]\n",
      " [-1.        ]]\n",
      "node 2  =  57.51898734177216\n",
      "node 3  =  58.51898734177216\n",
      "node 1  =  52.65822784810127\n",
      "node 4  =  58.51898734177217\n",
      "IVS6  = -1.000000\n",
      "IHK  = 1.000000\n"
     ]
    }
   ],
   "source": [
    "#test\n",
    "netlist = \"\"\"\n",
    "*netlist example 1\n",
    "Hk 2 3 Vs6 1\n",
    "R1 1 0 5\n",
    "G2 1 0 1 2 2\n",
    "R3 1 2 6\n",
    "R4 2 0 8\n",
    "Is5 0 2 10\n",
    "Vs6 3 2 5\n",
    "R8 3 4 10\n",
    "*E7 4 0 1 2 3\n",
    "\n",
    "*L 1 2 3\n",
    "*C 3 4 5\n",
    ".end\n",
    "\"\"\"\n",
    "\n",
    "from Spice import Spice\n",
    "mySpice = Spice()\n",
    "mySpice.parse(netlist)\n",
    "mySpice.solve()\n",
    "#mySpice.startGUI()"
   ]
  },
  {
   "cell_type": "code",
   "execution_count": null,
   "metadata": {},
   "outputs": [],
   "source": [
    "from UI import GUI\n",
    "\n",
    "import sys\n",
    "from PyQt5.QtWidgets import QApplication\n",
    "\n",
    "app = QApplication(sys.argv)\n",
    "ex = GUI()\n",
    "sys.exit(app.exec_())\n"
   ]
  },
  {
   "cell_type": "code",
   "execution_count": 2,
   "metadata": {},
   "outputs": [
    {
     "name": "stdout",
     "output_type": "stream",
     "text": [
      "Start parser now. \n",
      "\n",
      "device {'deviceType': 'V', 'name': 'V1', 'connectionPoints': (1, 0), 'DC': 10.0}\n",
      "device {'deviceType': 'R', 'name': 'R2', 'connectionPoints': (1, 2), 'value': 5.0}\n",
      "device {'deviceType': 'L', 'name': 'L3', 'connectionPoints': (1, 2), 'value': 4.0}\n",
      "device {'deviceType': 'C', 'name': 'C4', 'connectionPoints': (2, 0), 'value': 3.0}\n",
      "stamp matrix [[  0.    0.    0.   -1.    0.   -1. ]\n",
      " [  0.    0.2  -0.2   1.    1.    0. ]\n",
      " [  0.   -0.2   0.2   0.   -1.    1. ]\n",
      " [ -1.    1.    0.    0.    0.    0. ]\n",
      " [  0.   -1.    1.    0.   80.    0. ]\n",
      " [-60.    0.   60.    0.    0.   -1. ]]\n",
      "node map\n",
      " {'0': 0, '1': 1, '2': 2}\n",
      "appendLine\n",
      " {'V1': 3, 'L3': 4, 'C4': 5}\n"
     ]
    }
   ],
   "source": [
    "#test\n",
    "netlist = \"\"\"\n",
    "*netlist example 1\n",
    "V1 1 0 10\n",
    "R2 1 2 5\n",
    "L3 1 2 4\n",
    "C4 2 0 3\n",
    ".end\n",
    "\"\"\"\n",
    "\n",
    "from Spice import Spice\n",
    "mySpice = Spice()\n",
    "mySpice.parse(netlist)\n",
    "mySpice.solveTran(method='TRAP', step=0.1, stop = 2000)\n",
    "#mySpice.startGUI()\n",
    "%config InlineBackend.figure_format = 'retina'\n",
    "%matplotlib inline"
   ]
  },
  {
   "cell_type": "code",
   "execution_count": 7,
   "metadata": {},
   "outputs": [
    {
     "name": "stdout",
     "output_type": "stream",
     "text": [
      "Start parser now. \n",
      "\n",
      "device {'deviceType': 'V', 'name': 'V1', 'connectionPoints': (1, 0), 'DC': 10.0}\n",
      "device {'deviceType': 'R', 'name': 'R2', 'connectionPoints': (1, 2), 'value': 5.0}\n",
      "device {'deviceType': 'L', 'name': 'L3', 'connectionPoints': (1, 2), 'value': 4.0}\n",
      "device {'deviceType': 'C', 'name': 'C4', 'connectionPoints': (2, 0), 'value': 3.0}\n",
      "stamp matrix [[  0.    0.    0.   -1.    0.   -1. ]\n",
      " [  0.    0.2  -0.2   1.    1.    0. ]\n",
      " [  0.   -0.2   0.2   0.   -1.    1. ]\n",
      " [ -1.    1.    0.    0.    0.    0. ]\n",
      " [  0.    1.   -1.    0.  -40.    0. ]\n",
      " [-30.    0.   30.    0.    0.   -1. ]]\n",
      "node map\n",
      " {'0': 0, '1': 1, '2': 2}\n",
      "appendLine\n",
      " {'V1': 3, 'L3': 4, 'C4': 5}\n",
      "stamp matrix [[  0.    0.    0.   -1.    0.   -1. ]\n",
      " [  0.    0.2  -0.2   1.    1.    0. ]\n",
      " [  0.   -0.2   0.2   0.   -1.    1. ]\n",
      " [ -1.    1.    0.    0.    0.    0. ]\n",
      " [  0.    0.    0.    0.    1.    0. ]\n",
      " [-30.    0.   30.    0.    0.    0. ]]\n",
      "node map\n",
      " {'0': 0, '1': 1, '2': 2}\n",
      "appendLine\n",
      " {'V1': 3, 'L3': 4, 'C4': 5}\n",
      "stamp matrix [[  0.    0.    0.   -1.    0.   -1. ]\n",
      " [  0.    0.2  -0.2   1.    1.    0. ]\n",
      " [  0.   -0.2   0.2   0.   -1.    1. ]\n",
      " [ -1.    1.    0.    0.    0.    0. ]\n",
      " [  0.   -1.    1.    0.   80.    0. ]\n",
      " [-60.    0.   60.    0.    0.   -1. ]]\n",
      "node map\n",
      " {'0': 0, '1': 1, '2': 2}\n",
      "appendLine\n",
      " {'V1': 3, 'L3': 4, 'C4': 5}\n"
     ]
    },
    {
     "data": {
      "image/png": "[encoded data removed]",
      "text/plain": [
       "<Figure size 432x288 with 1 Axes>"
      ]
     },
     "metadata": {
      "image/png": {
       "height": 250,
       "width": 380
      },
      "needs_background": "light"
     },
     "output_type": "display_data"
    }
   ],
   "source": [
    "#test\n",
    "netlist = \"\"\"\n",
    "*netlist example 1\n",
    "V1 1 0 10\n",
    "R2 1 2 5\n",
    "L3 1 2 4\n",
    "C4 2 0 3\n",
    ".end\n",
    "\"\"\"\n",
    "step = 0.1\n",
    "stop = 2000\n",
    "from Spice import Spice\n",
    "mySpice = Spice()\n",
    "mySpice.parse(netlist)\n",
    "mySpice.solveTran(method='BE', step=0.1, stop = 2000)\n",
    "mySpice.solveTran(method='FE', step=0.1, stop = 2000)\n",
    "mySpice.solveTran(method='TRAP', step=0.1, stop = 2000)\n",
    "#mySpice.startGUI()\n",
    "mySpice.plotTran(step=0.1, stop = 2000)\n",
    "%config InlineBackend.figure_format = 'retina'\n",
    "%matplotlib inline"
   ]
  },
  {
   "cell_type": "code",
   "execution_count": 3,
   "metadata": {},
   "outputs": [
    {
     "name": "stdout",
     "output_type": "stream",
     "text": [
      "Start parser now. \n",
      "\n",
      "device {'deviceType': 'V', 'name': 'V1', 'connectionPoints': (1, 0), 'DC': 10.0}\n",
      "device {'deviceType': 'R', 'name': 'R2', 'connectionPoints': (1, 2), 'value': 5.0}\n",
      "device {'deviceType': 'L', 'name': 'L3', 'connectionPoints': (1, 2), 'value': 4.0}\n",
      "device {'deviceType': 'C', 'name': 'C4', 'connectionPoints': (2, 0), 'value': 3.0}\n",
      "stamp matrix [[  0.    0.    0.   -1.    0.   -1. ]\n",
      " [  0.    0.2  -0.2   1.    1.    0. ]\n",
      " [  0.   -0.2   0.2   0.   -1.    1. ]\n",
      " [ -1.    1.    0.    0.    0.    0. ]\n",
      " [  0.    0.    0.    0.    1.    0. ]\n",
      " [-30.    0.   30.    0.    0.    0. ]]\n",
      "node map\n",
      " {'0': 0, '1': 1, '2': 2}\n",
      "appendLine\n",
      " {'V1': 3, 'L3': 4, 'C4': 5}\n"
     ]
    }
   ],
   "source": [
    "#test\n",
    "netlist = \"\"\"\n",
    "*netlist example 1\n",
    "V1 1 0 10\n",
    "R2 1 2 5\n",
    "L3 1 2 4\n",
    "C4 2 0 3\n",
    ".end\n",
    "\"\"\"\n",
    "\n",
    "from Spice import Spice\n",
    "mySpice = Spice()\n",
    "mySpice.parse(netlist)\n",
    "mySpice.solveTran(method='FE', step=0.1, stop = 2000)\n",
    "#mySpice.startGUI()\n",
    "%config InlineBackend.figure_format = 'retina'\n",
    "%matplotlib inline"
   ]
  }
 ],
 "metadata": {
  "kernelspec": {
   "display_name": "Python 3",
   "language": "python",
   "name": "python3"
  },
  "language_info": {
   "codemirror_mode": {
    "name": "ipython",
    "version": 3
   },
   "file_extension": ".py",
   "mimetype": "text/x-python",
   "name": "python",
   "nbconvert_exporter": "python",
   "pygments_lexer": "ipython3",
   "version": "3.6.7rc1"
  }
 },
 "nbformat": 4,
 "nbformat_minor": 2
}
